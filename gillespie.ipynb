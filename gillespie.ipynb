{
 "cells": [
  {
   "cell_type": "code",
   "execution_count": 1,
   "id": "f7afdb30",
   "metadata": {},
   "outputs": [],
   "source": [
    "import numpy as np\n",
    "import matplotlib.pyplot as plt"
   ]
  },
  {
   "cell_type": "code",
   "execution_count": 2,
   "id": "381d638a",
   "metadata": {},
   "outputs": [],
   "source": [
    "mat = np.load('DtoP_transition_matrix.npy')"
   ]
  },
  {
   "cell_type": "code",
   "execution_count": null,
   "id": "6aced607",
   "metadata": {},
   "outputs": [
    {
     "ename": "TypeError",
     "evalue": "'tuple' object is not callable",
     "output_type": "error",
     "traceback": [
      "\u001b[0;31m---------------------------------------------------------------------------\u001b[0m",
      "\u001b[0;31mTypeError\u001b[0m                                 Traceback (most recent call last)",
      "Cell \u001b[0;32mIn[3], line 56\u001b[0m\n\u001b[1;32m     54\u001b[0m reactions, labels \u001b[38;5;241m=\u001b[39m get_reactions(state)\n\u001b[1;32m     55\u001b[0m \u001b[38;5;28;01mwhile\u001b[39;00m time \u001b[38;5;241m<\u001b[39m Tmax:\n\u001b[0;32m---> 56\u001b[0m     rates \u001b[38;5;241m=\u001b[39m np\u001b[38;5;241m.\u001b[39marray([r(state) \u001b[38;5;241m*\u001b[39m (params[\u001b[38;5;124m'\u001b[39m\u001b[38;5;124mbeta\u001b[39m\u001b[38;5;124m'\u001b[39m]\u001b[38;5;241m.\u001b[39mget(X, \u001b[38;5;241m1\u001b[39m) \u001b[38;5;28;01mif\u001b[39;00m \u001b[38;5;124m'\u001b[39m\u001b[38;5;124mbirth\u001b[39m\u001b[38;5;124m'\u001b[39m \u001b[38;5;129;01min\u001b[39;00m lbl \u001b[38;5;28;01melse\u001b[39;00m \n\u001b[1;32m     57\u001b[0m                                   params[\u001b[38;5;124m'\u001b[39m\u001b[38;5;124mdelta\u001b[39m\u001b[38;5;124m'\u001b[39m]\u001b[38;5;241m.\u001b[39mget(X, \u001b[38;5;241m1\u001b[39m) \u001b[38;5;28;01mif\u001b[39;00m \u001b[38;5;124m'\u001b[39m\u001b[38;5;124mdeath\u001b[39m\u001b[38;5;124m'\u001b[39m \u001b[38;5;129;01min\u001b[39;00m lbl \u001b[38;5;28;01melse\u001b[39;00m \u001b[38;5;241m1\u001b[39m)\n\u001b[1;32m     58\u001b[0m                       \u001b[38;5;28;01mfor\u001b[39;00m r, lbl, X \u001b[38;5;129;01min\u001b[39;00m \u001b[38;5;28mzip\u001b[39m(reactions, labels, [\u001b[38;5;124m'\u001b[39m\u001b[38;5;124mF\u001b[39m\u001b[38;5;124m'\u001b[39m,\u001b[38;5;124m'\u001b[39m\u001b[38;5;124mH\u001b[39m\u001b[38;5;124m'\u001b[39m,\u001b[38;5;124m'\u001b[39m\u001b[38;5;124mS\u001b[39m\u001b[38;5;124m'\u001b[39m,\u001b[38;5;124m'\u001b[39m\u001b[38;5;124mM\u001b[39m\u001b[38;5;124m'\u001b[39m]\u001b[38;5;241m*\u001b[39m\u001b[38;5;241m5\u001b[39m)])\n\u001b[1;32m     60\u001b[0m     total_rate \u001b[38;5;241m=\u001b[39m np\u001b[38;5;241m.\u001b[39msum(rates)\n\u001b[1;32m     61\u001b[0m     \u001b[38;5;28;01mif\u001b[39;00m total_rate \u001b[38;5;241m==\u001b[39m \u001b[38;5;241m0\u001b[39m:\n",
      "\u001b[0;31mTypeError\u001b[0m: 'tuple' object is not callable"
     ]
    }
   ],
   "source": [
    "# Parameters (example values — adjust as needed)\n",
    "params = {\n",
    "    # birth\n",
    "    'beta': {'F': mat[4,1], 'H': mat[4,2], 'S': mat[4,3], 'M': mat[4,4]},\n",
    "    # death\n",
    "    'delta': {'F': mat[3,0], 'H': mat[2,0], 'S': mat[1,0], 'M': mat[0,0]},\n",
    "    # transition\n",
    "    'gamma': {\n",
    "        # from F to X\n",
    "        'F': {'H': mat[3,2], 'S': mat[3,3], 'M': mat[3,4]},\n",
    "        # from H to X\n",
    "        'H': {'F': mat[2,1], 'S': mat[2,3], 'M': mat[2,4]},\n",
    "        # from S to X\n",
    "        'S': {'F': mat[1,1], 'H': mat[1,2], 'M': mat[1,4]},\n",
    "        # from M to X\n",
    "        'M': {'F': mat[0,1], 'H': mat[0,2], 'S': mat[0,3]}\n",
    "    }\n",
    "}\n",
    "\n",
    "# State initialization: [F, H, S, M]\n",
    "state = np.array([2, 1, 0, 0], dtype=int)\n",
    "time = 0.0\n",
    "Tmax = 100\n",
    "states_over_time = [(time, *state)]\n",
    "\n",
    "def get_reactions(state):\n",
    "    reactions = []\n",
    "    labels = []\n",
    "\n",
    "    # Births (independent of current state)\n",
    "    for i, X in enumerate(['F', 'H', 'S', 'M']):\n",
    "        reactions.append((lambda s, i=i: 1, np.eye(4, dtype=int)[i]))\n",
    "        labels.append(f\"birth_{X}\")\n",
    "\n",
    "    # Deaths (proportional to current count)\n",
    "    for i, X in enumerate(['F', 'H', 'S', 'M']):\n",
    "        reactions.append((lambda s, i=i: s[i], -np.eye(4, dtype=int)[i]))\n",
    "        labels.append(f\"death_{X}\")\n",
    "\n",
    "    # Transitions (proportional to donor population)\n",
    "    for i, from_X in enumerate(['F', 'H', 'S', 'M']):\n",
    "        for j, to_X in enumerate(['F', 'H', 'S', 'M']):\n",
    "            if i != j:\n",
    "                rate = params['gamma'][from_X][to_X]\n",
    "                update = np.zeros(4, dtype=int)\n",
    "                update[i] -= 1\n",
    "                update[j] += 1\n",
    "                reactions.append((lambda s, i=i, r=rate: r * s[i], update))\n",
    "                labels.append(f\"{from_X}->{to_X}\")\n",
    "\n",
    "    return reactions, labels\n",
    "\n",
    "# Simulation loop\n",
    "reactions, labels = get_reactions(state)\n",
    "while time < Tmax:\n",
    "    rates = np.array([r(state) * (params['beta'].get(X, 1) if 'birth' in lbl else \n",
    "                                  params['delta'].get(X, 1) if 'death' in lbl else 1)\n",
    "                      for r, lbl, X in zip(reactions, labels, ['F','H','S','M']*5)])\n",
    "    \n",
    "    total_rate = np.sum(rates)\n",
    "    if total_rate == 0:\n",
    "        break\n",
    "    \n",
    "    # Time to next reaction\n",
    "    dt = np.random.exponential(1 / total_rate)\n",
    "    time += dt\n",
    "\n",
    "    # Choose reaction\n",
    "    reaction_index = np.random.choice(len(rates), p=rates / total_rate)\n",
    "    state += reactions[reaction_index][1]\n",
    "\n",
    "    # Save state\n",
    "    states_over_time.append((time, *state))\n",
    "\n",
    "# Plotting\n",
    "times, F, H, S, M = zip(*states_over_time)\n",
    "plt.figure(figsize=(10, 6))\n",
    "plt.plot(times, F, label='F')\n",
    "plt.plot(times, H, label='H')\n",
    "plt.plot(times, S, label='S')\n",
    "plt.plot(times, M, label='M')\n",
    "plt.xlabel('Time')\n",
    "plt.ylabel('Population')\n",
    "plt.title('Gillespie Simulation of 4-State System')\n",
    "plt.legend()\n",
    "plt.grid(True)\n",
    "plt.show()"
   ]
  },
  {
   "cell_type": "code",
   "execution_count": null,
   "id": "7faa00fd",
   "metadata": {},
   "outputs": [],
   "source": []
  }
 ],
 "metadata": {
  "kernelspec": {
   "display_name": "base",
   "language": "python",
   "name": "python3"
  },
  "language_info": {
   "codemirror_mode": {
    "name": "ipython",
    "version": 3
   },
   "file_extension": ".py",
   "mimetype": "text/x-python",
   "name": "python",
   "nbconvert_exporter": "python",
   "pygments_lexer": "ipython3",
   "version": "3.12.7"
  }
 },
 "nbformat": 4,
 "nbformat_minor": 5
}
