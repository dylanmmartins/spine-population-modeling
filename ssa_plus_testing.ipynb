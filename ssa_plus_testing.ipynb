{
 "cells": [
  {
   "cell_type": "code",
   "execution_count": null,
   "id": "8bb9cc2b",
   "metadata": {},
   "outputs": [],
   "source": [
    "import numpy as np\n",
    "import math\n",
    "import random\n",
    "import warnings\n",
    "from scipy.integrate import quad\n",
    "from scipy.optimize import root_scalar\n",
    "import matplotlib.pyplot as plt"
   ]
  },
  {
   "cell_type": "markdown",
   "id": "9fdeced1",
   "metadata": {},
   "source": [
    "# hpp and nhpp"
   ]
  },
  {
   "cell_type": "code",
   "execution_count": null,
   "id": "d4bae69c",
   "metadata": {},
   "outputs": [],
   "source": [
    "# Homogeneous Poisson Process (hpp) inter-event time sampler\n",
    "def hpp(intentemp):\n",
    "    total_intensity = sum(intentemp)\n",
    "    # Avoid division by zero (should be handled by caller)\n",
    "    return - (1 / total_intensity) * math.log(1 - random.random())\n",
    "\n",
    "# Nonhomogeneous Poisson Process (nhpp) inter-event time sampler using inverse transform\n",
    "def nhpp(tottime, N, param, inten, timeleft):\n",
    "    Y = random.random()\n",
    "    def f(X):\n",
    "        # Integrate sum of intensities from 0 to X\n",
    "        integral, _ = quad(lambda x: sum(inten(tottime + x, N, param)), 0, X, limit=200)\n",
    "        return 1 - math.exp(-integral) - Y\n",
    "    try:\n",
    "        sol = root_scalar(f, bracket=[0, timeleft], method='bisect', xtol=1e-5)\n",
    "        return sol.root\n",
    "    except ValueError:\n",
    "        # In case no root is found, return a value greater than timeleft\n",
    "        return timeleft + 1"
   ]
  },
  {
   "cell_type": "markdown",
   "id": "7b364164",
   "metadata": {},
   "source": [
    "# gillespie"
   ]
  },
  {
   "cell_type": "code",
   "execution_count": null,
   "id": "90c25d9e",
   "metadata": {},
   "outputs": [],
   "source": [
    "# Gillespie simulation (SSA with a fixed time grid) using homogeneous sampling\n",
    "def gillespie(init, times, param, inten, pproc, hpp_func):\n",
    "    if len(times) == 0:\n",
    "        raise ValueError(\"No time points provided in 'times'\")\n",
    "    if times[0] != 0:\n",
    "        raise ValueError(\"First time point is not 0\")\n",
    "\n",
    "    tottime = times[0]\n",
    "    tinc = len(times)\n",
    "    N = np.array(init, dtype=float)  # current state (assumed 1D)\n",
    "    # Prepare a results array; each row will store the state at the corresponding grid time.\n",
    "    results = np.zeros((tinc, len(N)))\n",
    "    results[0, :] = N.copy()\n",
    "\n",
    "    i = 1\n",
    "    while i < tinc:\n",
    "        results[i, :] = results[i - 1, :].copy()\n",
    "        # Process events until the simulation time exceeds the grid time points[i]\n",
    "        while tottime <= times[i]:\n",
    "            intentemp = inten(tottime, N, param)\n",
    "            if all(x == 0 for x in intentemp):\n",
    "                for j in range(i, tinc):\n",
    "                    results[j, :] = N.copy()\n",
    "                warnings.warn(\"Exiting with all intensities equal to 0\")\n",
    "                i = tinc  # exit outer loop\n",
    "                break\n",
    "            elif min(intentemp) < 0:\n",
    "                for j in range(i, tinc):\n",
    "                    results[j, :] = np.nan\n",
    "                warnings.warn(\"Exiting with intensity less than 0\")\n",
    "                i = tinc  # exit outer loop\n",
    "                break\n",
    "            else:\n",
    "                tau = hpp_func(intentemp)\n",
    "                tottime += tau\n",
    "                # Choose an event type based on the probabilities proportional to intensities.\n",
    "                probabilities = np.array(intentemp) / sum(intentemp)\n",
    "                event_index = np.random.choice(np.arange(pproc.shape[0]), p=probabilities.flatten())\n",
    "                # If the new time is beyond the grid time, record current state and apply the event once.\n",
    "                if tottime > times[i]:\n",
    "                    results[i, :] = N.copy()\n",
    "                    N = N + pproc[event_index, :]\n",
    "                    break\n",
    "                else:\n",
    "                    N = N + pproc[event_index, :]\n",
    "        i += 1\n",
    "\n",
    "    # Combine the time vector and results into one array (first column is time)\n",
    "    return np.column_stack((times, results))"
   ]
  },
  {
   "cell_type": "markdown",
   "id": "fd1c778a",
   "metadata": {},
   "source": [
    "# gillespie+"
   ]
  },
  {
   "cell_type": "code",
   "execution_count": null,
   "id": "bc9183f5",
   "metadata": {},
   "outputs": [],
   "source": [
    "# Gillespie+ simulation using nonhomogeneous Poisson process sampling\n",
    "def gillespie_plus(init, times, param, inten, pproc, nhpp_func):\n",
    "    if len(times) == 0:\n",
    "        raise ValueError(\"No time points provided in 'times'\")\n",
    "    if times[0] != 0:\n",
    "        raise ValueError(\"First time point is not 0\")\n",
    "    \n",
    "    tottime = times[0]\n",
    "    tinc = len(times)\n",
    "    N = np.array(init, dtype=float)\n",
    "    results = np.zeros((tinc, len(N)))\n",
    "    results[0, :] = N.copy()\n",
    "\n",
    "    i = 1\n",
    "    while i < tinc:\n",
    "        results[i, :] = results[i - 1, :].copy()\n",
    "        while tottime <= times[i]:\n",
    "            intentemp = inten(tottime, N, param)\n",
    "            if all(x == 0 for x in intentemp):\n",
    "                for j in range(i, tinc):\n",
    "                    results[j, :] = N.copy()\n",
    "                warnings.warn(\"Exiting with all intensities equal to 0\")\n",
    "                i = tinc\n",
    "                break\n",
    "            elif min(intentemp) < 0:\n",
    "                for j in range(i, tinc):\n",
    "                    results[j, :] = np.nan\n",
    "                warnings.warn(\"Exiting with intensity less than 0\")\n",
    "                i = tinc\n",
    "                break\n",
    "            else:\n",
    "                # Use the nonhomogeneous inter-event sampler with the remaining time interval\n",
    "                tau = nhpp_func(tottime, N, param, inten, times[-1] - tottime)\n",
    "                tottime += tau\n",
    "                # Recalculate intensities for the new time.\n",
    "                intentemp = inten(tottime, N, param)\n",
    "                probabilities = np.array(intentemp) / sum(intentemp)\n",
    "\n",
    "                event_index = np.random.choice(np.arange(pproc.shape[0]), p=probabilities.flatten())\n",
    "                if tottime > times[i]:\n",
    "                    results[i, :] = N.copy()\n",
    "                    N = N + pproc[event_index, :]\n",
    "                    break\n",
    "                else:\n",
    "                    N = N + pproc[event_index, :]\n",
    "        i += 1\n",
    "\n",
    "    return np.column_stack((times, results))"
   ]
  },
  {
   "cell_type": "markdown",
   "id": "d719def4",
   "metadata": {},
   "source": [
    "# test models"
   ]
  },
  {
   "cell_type": "code",
   "execution_count": null,
   "id": "85275eb3",
   "metadata": {},
   "outputs": [],
   "source": [
    "# Initial population size\n",
    "init = [100]  # using a list for one-dimensional state\n",
    "\n",
    "# Time grid: from 0 to 20 in steps of 1\n",
    "times = np.arange(0, 101, 1)\n",
    "\n",
    "# Environment function: fluctuating environment\n",
    "def fluctuating2(x):\n",
    "    return (math.sin(x * 2) + 1) / 1.5\n",
    "\n",
    "# Demographic functions for birth and death\n",
    "def births(b, env_res):\n",
    "    return b * env_res\n",
    "\n",
    "def deaths(d, env_res):\n",
    "    return d\n",
    "\n",
    "# Combine parameters into a dictionary.\n",
    "param = {\n",
    "    'b': 0.03,\n",
    "    'd': 0.027,\n",
    "    'env': fluctuating2,\n",
    "    'births': births,\n",
    "    'deaths': deaths\n",
    "}\n",
    "\n",
    "# Intensity function using demographic functions and environment.\n",
    "def inten(t, X, param):\n",
    "    env_val = param['env'](t)\n",
    "    b_int = X * param['births'](param['b'], env_val)\n",
    "    d_int = X * param['deaths'](param['d'], env_val)\n",
    "    # Return two intensities: one for birth and one for death.\n",
    "    return [b_int, d_int]\n",
    "\n",
    "# State change matrix due to events: birth increases population by 1, death decreases by 1.\n",
    "pproc = np.array([[1],   # birth: add 1\n",
    "                  [-1]]) # death: subtract 1\n",
    "\n",
    "# Set a random seed for reproducibility\n",
    "np.random.seed(20170915)\n",
    "random.seed(20170915)\n",
    "\n",
    "# Run simulation using gillespie (homogeneous Poisson process sampler)\n",
    "res_gillespie = gillespie(init, times, param, inten, pproc, hpp)\n",
    "print(\"Results from gillespie:\")\n",
    "print(res_gillespie)\n",
    "\n",
    "# Reset the seed for reproducibility before running the second simulation\n",
    "np.random.seed(20170915)\n",
    "random.seed(20170915)\n",
    "\n",
    "# Run simulation using gillespie_plus (nonhomogeneous Poisson process sampler)\n",
    "res_gillespie_plus = gillespie_plus(init, times, param, inten, pproc, nhpp)\n",
    "print(\"\\nResults from gillespie_plus:\")\n",
    "print(res_gillespie_plus)"
   ]
  },
  {
   "cell_type": "code",
   "execution_count": null,
   "id": "c2dde08c",
   "metadata": {},
   "outputs": [],
   "source": [
    "import numpy as np"
   ]
  },
  {
   "cell_type": "code",
   "execution_count": null,
   "id": "559f860a",
   "metadata": {},
   "outputs": [],
   "source": [
    "pproc = np.array([[1],   # birth: add 1\n",
    "                  [-1]]) # death: subtract 1"
   ]
  },
  {
   "cell_type": "code",
   "execution_count": null,
   "id": "f824bff1",
   "metadata": {},
   "outputs": [],
   "source": [
    "pproc.shape"
   ]
  },
  {
   "cell_type": "code",
   "execution_count": null,
   "id": "db27ef93",
   "metadata": {},
   "outputs": [],
   "source": [
    "fluctuating2(0.5)"
   ]
  },
  {
   "cell_type": "code",
   "execution_count": null,
   "id": "b0406ccc",
   "metadata": {},
   "outputs": [],
   "source": [
    "plt.plot(times, res_gillespie[:,1])\n",
    "plt.plot(times, res_gillespie_plus[:,1])"
   ]
  },
  {
   "cell_type": "code",
   "execution_count": null,
   "id": "49108011",
   "metadata": {},
   "outputs": [],
   "source": []
  }
 ],
 "metadata": {
  "kernelspec": {
   "display_name": "spines",
   "language": "python",
   "name": "python3"
  },
  "language_info": {
   "codemirror_mode": {
    "name": "ipython",
    "version": 3
   },
   "file_extension": ".py",
   "mimetype": "text/x-python",
   "name": "python",
   "nbconvert_exporter": "python",
   "pygments_lexer": "ipython3",
   "version": "3.9.21"
  }
 },
 "nbformat": 4,
 "nbformat_minor": 5
}
