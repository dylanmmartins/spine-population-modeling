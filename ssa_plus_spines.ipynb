{
 "cells": [
  {
   "cell_type": "code",
   "execution_count": 2,
   "id": "c370707f",
   "metadata": {},
   "outputs": [],
   "source": [
    "import numpy as np\n",
    "import math\n",
    "import random\n",
    "import warnings\n",
    "from scipy.integrate import quad\n",
    "from scipy.optimize import root_scalar\n",
    "import matplotlib.pyplot as plt"
   ]
  },
  {
   "cell_type": "code",
   "execution_count": 1,
   "id": "282c3345",
   "metadata": {},
   "outputs": [],
   "source": [
    "def boxcar_smooth(data, window_size):\n",
    "  if window_size <= 0:\n",
    "    raise ValueError(\"Window size must be positive\")\n",
    "  kernel = np.ones(window_size) / window_size\n",
    "  smoothed_data = np.convolve(data, kernel, mode='same')\n",
    "  return smoothed_data"
   ]
  },
  {
   "cell_type": "code",
   "execution_count": 15,
   "id": "396cbab6",
   "metadata": {},
   "outputs": [],
   "source": [
    "x_data = np.array([0, 1, 1.25, 1.5, 1.75, 2, 2.5, 3, 4])\n",
    "y_data = np.array([10, 20, 25, 40, 10, 5, 10, 5, 10])\n",
    "estradiol_level = np.interp(np.linspace(0,4,100)*24, x_data*24, y_data)"
   ]
  },
  {
   "cell_type": "code",
   "execution_count": null,
   "id": "4bb7a9b9",
   "metadata": {},
   "outputs": [
    {
     "data": {
      "text/plain": [
       "array([[0.51740506, 0.21212121, 0.11888112, 0.15485075, 0.09053498],\n",
       "       [0.02689873, 0.09090909, 0.05594406, 0.00746269, 0.03292181],\n",
       "       [0.17563291, 0.39393939, 0.44055944, 0.16604478, 0.23045267],\n",
       "       [0.22151899, 0.18181818, 0.26573427, 0.54664179, 0.21399177],\n",
       "       [0.0585443 , 0.12121212, 0.11888112, 0.125     , 0.43209877]])"
      ]
     },
     "execution_count": 28,
     "metadata": {},
     "output_type": "execute_result"
    }
   ],
   "source": [
    "tmat = np.load('DtoP_transition_matrix.npy')"
   ]
  },
  {
   "cell_type": "code",
   "execution_count": 34,
   "id": "8bcac05a",
   "metadata": {},
   "outputs": [
    {
     "data": {
      "text/plain": [
       "array([[ 1,  0,  0,  0, -1,  0,  0,  0,  1,  1,  1, -1, -1, -1,  0,  0,\n",
       "         0,  0,  0,  0],\n",
       "       [ 0,  1,  0,  0,  0, -1,  0,  0, -1,  0,  0,  1,  0,  0,  1,  1,\n",
       "         1,  0, -1,  0],\n",
       "       [ 0,  0,  1,  0,  0,  0, -1,  0,  0, -1,  0,  0,  1,  0, -1,  0,\n",
       "         0,  1,  0, -1],\n",
       "       [ 0,  0,  0,  1,  0,  0,  0, -1,  0,  0, -1,  0,  0,  1,  0, -1,\n",
       "        -1, -1,  1,  1]])"
      ]
     },
     "execution_count": 34,
     "metadata": {},
     "output_type": "execute_result"
    }
   ],
   "source": [
    "state_change_matrix = np.array([\n",
    "    [1,0,0,0],  # 1.  New F grown\n",
    "    [0,1,0,0],  # 2.  New H grown\n",
    "    [0,0,1,0],  # 3.  New S grown\n",
    "    [0,0,0,1],  # 4.  New M grown\n",
    "    [-1,0,0,0], # 5.  Existing F pruned\n",
    "    [0,-1,0,0], # 6.  Existing H pruned\n",
    "    [0,0,-1,0], # 7.  Existing S pruned\n",
    "    [0,0,0,-1], # 8.  Existing M pruned\n",
    "    [1,-1,0,0], # 9.  H transitions to F\n",
    "    [1,0,-1,0], # 10. S transitions to F\n",
    "    [1,0,0,-1], # 11. M transitions to F\n",
    "    [-1,1,0,0], # 12. F transitions to H\n",
    "    [-1,0,1,0], # 13. F transitions to S\n",
    "    [-1,0,0,1], # 14. F transitions to M\n",
    "    [0,1,-1,0], # 15. S transitions to H\n",
    "    [0,1,0,-1], # 16. M transitions to H\n",
    "    [0,1,0,-1], # 17. H transitions to S\n",
    "    [0,0,1,-1], # 18. M transitions to S\n",
    "    [0,-1,0,1], # 19. H trantisions to M\n",
    "    [0,0,-1,1]  # 20. S transitions to M\n",
    "]).T\n",
    "state_change_matrix"
   ]
  },
  {
   "cell_type": "code",
   "execution_count": 35,
   "id": "9890293f",
   "metadata": {},
   "outputs": [],
   "source": [
    "def find_closest_timestamp(arr, t):\n",
    "    ind = np.nanargmin(np.abs(arr - t))\n",
    "    approx_t = arr[ind]\n",
    "    return ind, approx_t"
   ]
  },
  {
   "cell_type": "code",
   "execution_count": null,
   "id": "41a011b2",
   "metadata": {},
   "outputs": [],
   "source": [
    "# environmental function\n",
    "def estradiol_lvl(t):\n",
    "    # `t` must be aligned so that it always begins at the start\n",
    "    # of diestrus stage.\n",
    "\n",
    "    # Mod so that any number of hours falls into the 0 to 96 hour range\n",
    "    t = t%(4*24)\n",
    "    cycle_ind, _ = find_closest_timestamp(np.linspace(0,4,100)*24, t)\n",
    "\n",
    "    # return the current estradiol level\n",
    "    return estradiol_level[cycle_ind]"
   ]
  },
  {
   "cell_type": "code",
   "execution_count": 43,
   "id": "3755b8d6",
   "metadata": {},
   "outputs": [],
   "source": [
    "symbol_matrix = np.array([\n",
    "    ['deltaM','gammaM2F','gammaM2H','gammaM2S','lambdaM'],\n",
    "    ['deltaS','gammaS2F','gammaS2H','lambdaS','gammaS2M'],\n",
    "    ['deltaH','gammaH2F','lambdaH','gammaH2S','gammaH2M'],\n",
    "    ['deltaF','lambdaF','gammaF2H','gammaF2S','gammaF2M'],\n",
    "    ['0','betaF','betaH','betaS','betaM']\n",
    "])\n",
    "\n",
    "# Load transition probability matrices\n",
    "DtoP = np.load('DtoP_transition_matrix.npy')\n",
    "PtoE = np.load('PtoE_transition_matrix.npy')\n",
    "EtoM = np.load('EtoM_transition_matrix.npy')\n",
    "MtoD = np.load('MtoD_transition_matrix.npy')\n",
    "\n",
    "mats = [DtoP, PtoE, EtoM, MtoD]\n",
    "\n",
    "transition_dict = {}\n",
    "# Iterate through parameters\n",
    "for i in range(5): # from\n",
    "    for j in range(5): # to\n",
    "\n",
    "        # Get the values across stages\n",
    "        transvals_across_stages = [mat[i, j] for mat in mats]\n",
    "\n",
    "        # Interpolate to bins\n",
    "        transvals_at_bins = np.interp(\n",
    "            np.linspace(0,4,100)*24,\n",
    "            np.arange(4)*24,\n",
    "            transvals_across_stages\n",
    "        )\n",
    "\n",
    "        # add to dict\n",
    "        transition_dict[symbol_matrix[i,j]] = transvals_at_bins"
   ]
  },
  {
   "cell_type": "code",
   "execution_count": null,
   "id": "24c78a1c",
   "metadata": {},
   "outputs": [],
   "source": [
    "# Given an estradiol level, can you decode the current transition\n",
    "# probabilities, or is it ambigious?\n",
    "\n",
    "\n"
   ]
  },
  {
   "cell_type": "code",
   "execution_count": null,
   "id": "ebf2a59b",
   "metadata": {},
   "outputs": [],
   "source": [
    "# Homogeneous Poisson Process (hpp) inter-event time sampler\n",
    "def hpp(intentemp):\n",
    "    total_intensity = sum(intentemp)\n",
    "    # Avoid division by zero (should be handled by caller)\n",
    "    return - (1 / total_intensity) * math.log(1 - random.random())\n",
    "\n",
    "# Nonhomogeneous Poisson Process (nhpp) inter-event time sampler using inverse transform\n",
    "def nhpp(tottime, N, param, inten, timeleft):\n",
    "    Y = random.random()\n",
    "    def f(X):\n",
    "        # Integrate sum of intensities from 0 to X\n",
    "        integral, _ = quad(lambda x: sum(inten(tottime + x, N, param)), 0, X, limit=200)\n",
    "        return 1 - math.exp(-integral) - Y\n",
    "    try:\n",
    "        sol = root_scalar(f, bracket=[0, timeleft], method='bisect', xtol=1e-5)\n",
    "        return sol.root\n",
    "    except ValueError:\n",
    "        # In case no root is found, return a value greater than timeleft\n",
    "        return timeleft + 1"
   ]
  },
  {
   "cell_type": "code",
   "execution_count": null,
   "id": "79f2c608",
   "metadata": {},
   "outputs": [],
   "source": [
    "def estradiol_to_transition_param(x, param):\n",
    "    \n"
   ]
  },
  {
   "cell_type": "code",
   "execution_count": null,
   "id": "80fcf343",
   "metadata": {},
   "outputs": [
    {
     "data": {
      "text/plain": [
       "0"
      ]
     },
     "execution_count": 26,
     "metadata": {},
     "output_type": "execute_result"
    }
   ],
   "source": [
    "def inten(t, pops, params):\n",
    "    # Intensity function and demographic functions combined into single func\n",
    "    # Should return the values for birth*population, etc. as numbers not as rates\n",
    "\n",
    "    # Current populations\n",
    "    F, H, S, M = pops\n",
    "\n",
    "    # Get the current estradiol level\n",
    "    # e2_lvl = estradiol_lvl(t)\n",
    "\n",
    "    # Find position in estrous cycle and use the appropriate transition\n",
    "    # values for that point between stages\n",
    "    tind = find_closest_timestamp(np.linspace(0,4,100)*24, t)\n",
    "\n",
    "    # Given a cycle position, get the transition probabilities\n",
    "    use_intensities = {}\n",
    "    for key,val in transition_dict.items():\n",
    "        use_intensities[key] = val[tind]\n",
    "\n",
    "    # Ignore lambda values because these represent staibility not\n",
    "    # a transition between spine classes\n",
    "    deltaM = use_intensities['deltaM'][tind]\n",
    "    gammaM2F = use_intensities['gammaM2F'][tind]\n",
    "    gammaM2H = use_intensities['gammaM2H'][tind]\n",
    "    gammaM2S = use_intensities['gammaM2S'][tind]\n",
    "    # lambdaM = use_intensities['lambdaM'][tind]\n",
    "    deltaS = use_intensities['deltaS'][tind]\n",
    "    gammaS2F = use_intensities['gammaS2F'][tind]\n",
    "    gammaS2H = use_intensities['gammaS2H'][tind]\n",
    "    # lambdaS = use_intensities['lambdaS'][tind]\n",
    "    gammaS2M = use_intensities['gammaS2M'][tind]\n",
    "    deltaH = use_intensities['deltaH'][tind]\n",
    "    gammaH2F = use_intensities['gammaH2F'][tind]\n",
    "    # lambdaH = use_intensities['lambdaH'][tind]\n",
    "    gammaH2S = use_intensities['gammaH2S'][tind]\n",
    "    gammaH2M = use_intensities['gammaH2M'][tind]\n",
    "    deltaF = use_intensities['deltaF'][tind]\n",
    "    # lambdaF = use_intensities['lambdaF'][tind]\n",
    "    gammaF2H = use_intensities['gammaF2H'][tind]\n",
    "    gammaF2S = use_intensities['gammaF2S'][tind]\n",
    "    gammaF2M = use_intensities['gammaF2M'][tind]\n",
    "    betaF = use_intensities['betaF'][tind]\n",
    "    betaH = use_intensities['betaH'][tind]\n",
    "    betaS = use_intensities['betaS'][tind]\n",
    "    betaM = use_intensities['betaM'][tind]\n",
    "\n",
    "    dFdt = betaF - deltaF*F + gammaH2F*H + gammaS2F*S + gammaM2F*M - F*(gammaF2H + gammaF2S + gammaF2M)\n",
    "    dHdt = betaH - deltaH*H + gammaF2H*F + gammaS2H*S + gammaM2H*M - H*(gammaH2F + gammaH2S + gammaH2M)\n",
    "    dSdt = betaS - deltaS*S + gammaF2S*F + gammaH2S*H + gammaM2S*M - S*(gammaS2F + gammaS2H + gammaS2M)\n",
    "    dMdt = betaM - deltaM*M + gammaF2M*F + gammaH2M*H + gammaS2M*S - M*(gammaM2F + gammaM2H + gammaM2S)\n",
    "\n",
    "    \n",
    "    \n",
    "    # Intensities should be a (20,) \n",
    "\n",
    "    return intensities\n"
   ]
  },
  {
   "cell_type": "code",
   "execution_count": null,
   "id": "40978bd8",
   "metadata": {},
   "outputs": [],
   "source": []
  }
 ],
 "metadata": {
  "kernelspec": {
   "display_name": "spines",
   "language": "python",
   "name": "python3"
  },
  "language_info": {
   "codemirror_mode": {
    "name": "ipython",
    "version": 3
   },
   "file_extension": ".py",
   "mimetype": "text/x-python",
   "name": "python",
   "nbconvert_exporter": "python",
   "pygments_lexer": "ipython3",
   "version": "3.9.21"
  }
 },
 "nbformat": 4,
 "nbformat_minor": 5
}
